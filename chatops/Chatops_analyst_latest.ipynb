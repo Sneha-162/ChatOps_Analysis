{
  "cells": [
    {
      "cell_type": "code",
      "execution_count": 6,
      "metadata": {
        "colab": {
          "base_uri": "https://localhost:8080/"
        },
        "id": "-qZUYbeSaEGA",
        "outputId": "90b15c61-6acb-4fbc-9aa2-0c4b16b199bc"
      },
      "outputs": [
        {
          "name": "stderr",
          "output_type": "stream",
          "text": [
            "<>:5: SyntaxWarning: invalid escape sequence '\\c'\n",
            "<>:5: SyntaxWarning: invalid escape sequence '\\c'\n",
            "C:\\Users\\Priyanshi Kumrawat\\AppData\\Local\\Temp\\ipykernel_13456\\655658706.py:5: SyntaxWarning: invalid escape sequence '\\c'\n",
            "  os.chdir('D:\\chatops\\chatops_analyst')\n"
          ]
        },
        {
          "name": "stdout",
          "output_type": "stream",
          "text": [
            "Server should be running on http://localhost:8010\n"
          ]
        }
      ],
      "source": [
        "import os\n",
        "import sys\n",
        "\n",
        "# Change the current working directory to the project root\n",
        "os.chdir('D:\\chatops\\chatops_analyst')\n",
        "\n",
        "# Start the FastAPI server\n",
        "import subprocess\n",
        "import threading\n",
        "import time\n",
        "\n",
        "def run_server():\n",
        "    process = subprocess.Popen([sys.executable, \"main.py\"], stdout=subprocess.PIPE, stderr=subprocess.PIPE)\n",
        "    stdout, stderr = process.communicate()\n",
        "    if process.returncode != 0:\n",
        "        print(\"Server failed to start:\")\n",
        "    print(stderr.decode()) # Print stderr regardless of return code\n",
        "\n",
        "# Start server in background\n",
        "server_thread = threading.Thread(target=run_server, daemon=True)\n",
        "server_thread.start()\n",
        "\n",
        "# Wait for server to start\n",
        "time.sleep(10)\n",
        "print(\"Server should be running on http://localhost:8010\")"
      ]
    },
    {
      "cell_type": "code",
      "execution_count": 5,
      "metadata": {
        "id": "Vd9onwmwaN3m"
      },
      "outputs": [
        {
          "name": "stdout",
          "output_type": "stream",
          "text": [
            "\n",
            "/summary (POST):\n",
            "Status: 200\n",
            "Response: {\n",
            "  \"summary\": \"- Alice: Morning team, the API server was down for...\\n- Bob: Yes, I was frustrated. The issue was with...\\n- Carol: Good catch, Bob. I'll add monitoring alerts so...\\n- Dave: Also, remember we have the client demo tomorrow...\\n- Alice: Thanks, Dave. Let's finalize the slides today. Carol,...\"\n",
            "}\n",
            "\n",
            "/timeline (POST):\n",
            "Status: 200\n",
            "Response: {\n",
            "  \"timeline_24h\": [\n",
            "    {\n",
            "      \"timestamp\": \"2025-09-17T07:10:00Z\",\n",
            "      \"user\": \"alice\",\n",
            "      \"message_index\": 0,\n",
            "      \"topic\": \"Server issues\"\n",
            "    },\n",
            "    {\n",
            "      \"timestamp\": \"2025-09-17T07:15:00Z\",\n",
            "      \"user\": \"bob\",\n",
            "      \"message_index\": 1,\n",
            "      \"topic\": \"Server issues\"\n",
            "    },\n",
            "    {\n",
            "      \"timestamp\": \"2025-09-17T07:20:00Z\",\n",
            "      \"user\": \"carol\",\n",
            "      \"message_index\": 2,\n",
            "      \"topic\": \"System monitoring\"\n",
            "    },\n",
            "    {\n",
            "      \"timestamp\": \"2025-09-17T08:00:00Z\",\n",
            "      \"user\": \"dave\",\n",
            "      \"message_index\": 3,\n",
            "      \"topic\": \"Client demo\"\n",
            "    },\n",
            "    {\n",
            "      \"timestamp\": \"2025-09-17T08:05:00Z\",\n",
            "      \"user\": \"alice\",\n",
            "      \"message_index\": 4,\n",
            "      \"topic\": \"Client demo\"\n",
            "    },\n",
            "    {\n",
            "      \"timestamp\": \"2025-09-17T08:10:00Z\",\n",
            "      \"user\": \"carol\",\n",
            "      \"message_index\": 5,\n",
            "      \"topic\": \"General discussion\"\n",
            "    },\n",
            "    {\n",
            "      \"timestamp\": \"2025-09-17T09:00:00Z\",\n",
            "      \"user\": \"bob\",\n",
            "      \"message_index\": 6,\n",
            "      \"topic\": \"Server issues\"\n",
            "    }\n",
            "  ]\n",
            "}\n",
            "\n",
            "/sentiment (POST):\n",
            "Status: 200\n",
            "Response: {\n",
            "  \"sentiment_analysis\": {\n",
            "    \"alice\": \"Neutral\",\n",
            "    \"bob\": \"Negative\",\n",
            "    \"carol\": \"Positive\",\n",
            "    \"dave\": \"Neutral\"\n",
            "  }\n",
            "}\n",
            "\n",
            "/analyze (POST):\n",
            "Status: 404\n",
            "Error: {\"detail\":\"Not Found\"}\n"
          ]
        }
      ],
      "source": [
        "import requests\n",
        "import json\n",
        "\n",
        "# Test data\n",
        "sample_chat = {\n",
        "    \"messages\": [\n",
        "        {\"user\": \"alice\", \"message\": \"Morning team, the API server was down for 2 hours last night.\", \"timestamp\": \"2025-09-17T07:10:00Z\"},\n",
        "        {\"user\": \"bob\", \"message\": \"Yes, I was frustrated. The issue was with database overload.\", \"timestamp\": \"2025-09-17T07:15:00Z\"},\n",
        "        {\"user\": \"carol\", \"message\": \"Good catch, Bob. I'll add monitoring alerts so we spot this earlier.\", \"timestamp\": \"2025-09-17T07:20:00Z\"},\n",
        "        {\"user\": \"dave\", \"message\": \"Also, remember we have the client demo tomorrow at 10am.\", \"timestamp\": \"2025-09-17T08:00:00Z\"},\n",
        "        {\"user\": \"alice\", \"message\": \"Thanks, Dave. Let's finalize the slides today. Carol, can you lead?\", \"timestamp\": \"2025-09-17T08:05:00Z\"},\n",
        "        {\"user\": \"carol\", \"message\": \"Yes, I'll prepare the deck and share it by EOD.\", \"timestamp\": \"2025-09-17T08:10:00Z\"},\n",
        "        {\"user\": \"bob\", \"message\": \"Feeling relieved the server is stable now.\", \"timestamp\": \"2025-09-17T09:00:00Z\"}\n",
        "    ]\n",
        "}\n",
        "\n",
        "base_url = \"http://localhost:8010/api/v1\"\n",
        "\n",
        "# Test all endpoints\n",
        "endpoints = [\n",
        "    (\"/summary\", \"POST\"),\n",
        "    (\"/timeline\", \"POST\"),\n",
        "    (\"/sentiment\", \"POST\"),\n",
        "    (\"/analyze\", \"POST\")\n",
        "]\n",
        "\n",
        "for endpoint, method in endpoints:\n",
        "    try:\n",
        "        if method == \"POST\":\n",
        "            response = requests.post(f\"{base_url}{endpoint}\", json=sample_chat)\n",
        "        else:\n",
        "            response = requests.get(f\"{base_url}{endpoint}\")\n",
        "\n",
        "        print(f\"\\n{endpoint} ({method}):\")\n",
        "        print(f\"Status: {response.status_code}\")\n",
        "        if response.status_code == 200:\n",
        "            print(f\"Response: {json.dumps(response.json(), indent=2)}\")\n",
        "        else:\n",
        "            print(f\"Error: {response.text}\")\n",
        "    except Exception as e:\n",
        "        print(f\"Error testing {endpoint}: {e}\")"
      ]
    },
    {
      "cell_type": "code",
      "execution_count": null,
      "metadata": {
        "id": "QY1h9YsAdkiq"
      },
      "outputs": [],
      "source": []
    }
  ],
  "metadata": {
    "accelerator": "GPU",
    "colab": {
      "gpuType": "T4",
      "provenance": []
    },
    "kernelspec": {
      "display_name": ".venv",
      "language": "python",
      "name": "python3"
    },
    "language_info": {
      "codemirror_mode": {
        "name": "ipython",
        "version": 3
      },
      "file_extension": ".py",
      "mimetype": "text/x-python",
      "name": "python",
      "nbconvert_exporter": "python",
      "pygments_lexer": "ipython3",
      "version": "3.13.5"
    }
  },
  "nbformat": 4,
  "nbformat_minor": 0
}
